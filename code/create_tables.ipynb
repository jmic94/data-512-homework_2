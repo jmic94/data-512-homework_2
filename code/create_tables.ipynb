{
 "cells": [
  {
   "cell_type": "code",
   "execution_count": 3,
   "id": "8c0d3916",
   "metadata": {},
   "outputs": [],
   "source": [
    "import os\n",
    "import json, time, urllib.parse\n",
    "import requests\n",
    "import pandas as pd\n",
    "import numpy as np"
   ]
  },
  {
   "cell_type": "markdown",
   "id": "e7aaa3e6",
   "metadata": {},
   "source": [
    "### Set working directory"
   ]
  },
  {
   "cell_type": "code",
   "execution_count": 4,
   "id": "b8c437ae",
   "metadata": {},
   "outputs": [],
   "source": [
    "WD = '/Users/johnmichael/Documents/DATA512/data-512-homework_2'"
   ]
  },
  {
   "cell_type": "markdown",
   "id": "f376177e",
   "metadata": {},
   "source": [
    "### Import files"
   ]
  },
  {
   "cell_type": "code",
   "execution_count": 9,
   "id": "5a84baee",
   "metadata": {},
   "outputs": [],
   "source": [
    "us_cities = pd.read_csv(os.path.join(WD, 'input/us_cities_by_state_SEPT.2023.csv'))\n",
    "us_pop = pd.read_excel(os.path.join(WD, 'input/NST-EST2022-POP.xlsx'), skiprows=3)\n",
    "us_regions = pd.read_excel(os.path.join(WD, 'input/US States by Region - US Census Bureau.xlsx'))"
   ]
  },
  {
   "cell_type": "markdown",
   "id": "1086e531",
   "metadata": {},
   "source": [
    "### Clean input files"
   ]
  },
  {
   "cell_type": "code",
   "execution_count": 51,
   "id": "5ad8c9d5",
   "metadata": {},
   "outputs": [
    {
     "data": {
      "text/html": [
       "<div>\n",
       "<style scoped>\n",
       "    .dataframe tbody tr th:only-of-type {\n",
       "        vertical-align: middle;\n",
       "    }\n",
       "\n",
       "    .dataframe tbody tr th {\n",
       "        vertical-align: top;\n",
       "    }\n",
       "\n",
       "    .dataframe thead th {\n",
       "        text-align: right;\n",
       "    }\n",
       "</style>\n",
       "<table border=\"1\" class=\"dataframe\">\n",
       "  <thead>\n",
       "    <tr style=\"text-align: right;\">\n",
       "      <th></th>\n",
       "      <th>region</th>\n",
       "      <th>division</th>\n",
       "      <th>state</th>\n",
       "    </tr>\n",
       "  </thead>\n",
       "  <tbody>\n",
       "    <tr>\n",
       "      <th>0</th>\n",
       "      <td>Northeast</td>\n",
       "      <td>New England</td>\n",
       "      <td>Connecticut</td>\n",
       "    </tr>\n",
       "    <tr>\n",
       "      <th>1</th>\n",
       "      <td>Northeast</td>\n",
       "      <td>New England</td>\n",
       "      <td>Maine</td>\n",
       "    </tr>\n",
       "    <tr>\n",
       "      <th>2</th>\n",
       "      <td>Northeast</td>\n",
       "      <td>New England</td>\n",
       "      <td>Massachusetts</td>\n",
       "    </tr>\n",
       "    <tr>\n",
       "      <th>3</th>\n",
       "      <td>Northeast</td>\n",
       "      <td>New England</td>\n",
       "      <td>New Hampshire</td>\n",
       "    </tr>\n",
       "    <tr>\n",
       "      <th>4</th>\n",
       "      <td>Northeast</td>\n",
       "      <td>New England</td>\n",
       "      <td>Rhode Island</td>\n",
       "    </tr>\n",
       "  </tbody>\n",
       "</table>\n",
       "</div>"
      ],
      "text/plain": [
       "      region     division          state\n",
       "0  Northeast  New England    Connecticut\n",
       "1  Northeast  New England          Maine\n",
       "2  Northeast  New England  Massachusetts\n",
       "3  Northeast  New England  New Hampshire\n",
       "4  Northeast  New England   Rhode Island"
      ]
     },
     "execution_count": 51,
     "metadata": {},
     "output_type": "execute_result"
    }
   ],
   "source": [
    "'''\n",
    "Clean regions file so that each row has a\n",
    "unique region, division and state combination.\n",
    "'''\n",
    "us_regions_clean = us_regions.ffill()\n",
    "us_regions_clean.dropna(subset='STATE', inplace=True)\n",
    "us_regions_clean.drop_duplicates(subset='STATE', ignore_index=True, inplace=True)\n",
    "us_regions_clean.columns = us_regions_clean.columns.str.lower()\n",
    "us_regions_clean.head()"
   ]
  },
  {
   "cell_type": "code",
   "execution_count": 53,
   "id": "c10e739a",
   "metadata": {},
   "outputs": [
    {
     "data": {
      "text/html": [
       "<div>\n",
       "<style scoped>\n",
       "    .dataframe tbody tr th:only-of-type {\n",
       "        vertical-align: middle;\n",
       "    }\n",
       "\n",
       "    .dataframe tbody tr th {\n",
       "        vertical-align: top;\n",
       "    }\n",
       "\n",
       "    .dataframe thead th {\n",
       "        text-align: right;\n",
       "    }\n",
       "</style>\n",
       "<table border=\"1\" class=\"dataframe\">\n",
       "  <thead>\n",
       "    <tr style=\"text-align: right;\">\n",
       "      <th></th>\n",
       "      <th>state</th>\n",
       "      <th>pop_2022</th>\n",
       "    </tr>\n",
       "  </thead>\n",
       "  <tbody>\n",
       "    <tr>\n",
       "      <th>0</th>\n",
       "      <td>Alabama</td>\n",
       "      <td>5074296.0</td>\n",
       "    </tr>\n",
       "    <tr>\n",
       "      <th>1</th>\n",
       "      <td>Alaska</td>\n",
       "      <td>733583.0</td>\n",
       "    </tr>\n",
       "    <tr>\n",
       "      <th>2</th>\n",
       "      <td>Arizona</td>\n",
       "      <td>7359197.0</td>\n",
       "    </tr>\n",
       "    <tr>\n",
       "      <th>3</th>\n",
       "      <td>Arkansas</td>\n",
       "      <td>3045637.0</td>\n",
       "    </tr>\n",
       "    <tr>\n",
       "      <th>4</th>\n",
       "      <td>California</td>\n",
       "      <td>39029342.0</td>\n",
       "    </tr>\n",
       "  </tbody>\n",
       "</table>\n",
       "</div>"
      ],
      "text/plain": [
       "        state    pop_2022\n",
       "0     Alabama   5074296.0\n",
       "1      Alaska    733583.0\n",
       "2     Arizona   7359197.0\n",
       "3    Arkansas   3045637.0\n",
       "4  California  39029342.0"
      ]
     },
     "execution_count": 53,
     "metadata": {},
     "output_type": "execute_result"
    }
   ],
   "source": [
    "'''\n",
    "Clean US population data so that each row\n",
    "contains a state and the 2022 population.\n",
    "'''\n",
    "us_pop_clean = us_pop.copy()\n",
    "us_pop_clean.columns = ['state', 'pop_2020_est', 'pop_2020', 'pop_2021', 'pop_2022']\n",
    "us_pop_clean = us_pop_clean[us_pop_clean.state.str.contains('^\\.', na=False)]\n",
    "us_pop_clean['state'] = us_pop_clean.state.str.slice(1)\n",
    "us_pop_clean = us_pop_clean[['state', 'pop_2022']].reset_index(drop=True)\n",
    "us_pop_clean.head()"
   ]
  },
  {
   "cell_type": "markdown",
   "id": "6d40821d",
   "metadata": {},
   "source": [
    "### Request page info"
   ]
  },
  {
   "cell_type": "code",
   "execution_count": 57,
   "id": "62b5eceb",
   "metadata": {},
   "outputs": [
    {
     "data": {
      "text/html": [
       "<div>\n",
       "<style scoped>\n",
       "    .dataframe tbody tr th:only-of-type {\n",
       "        vertical-align: middle;\n",
       "    }\n",
       "\n",
       "    .dataframe tbody tr th {\n",
       "        vertical-align: top;\n",
       "    }\n",
       "\n",
       "    .dataframe thead th {\n",
       "        text-align: right;\n",
       "    }\n",
       "</style>\n",
       "<table border=\"1\" class=\"dataframe\">\n",
       "  <thead>\n",
       "    <tr style=\"text-align: right;\">\n",
       "      <th></th>\n",
       "      <th>state</th>\n",
       "      <th>page_title</th>\n",
       "      <th>url</th>\n",
       "    </tr>\n",
       "  </thead>\n",
       "  <tbody>\n",
       "    <tr>\n",
       "      <th>0</th>\n",
       "      <td>Alabama</td>\n",
       "      <td>Abbeville, Alabama</td>\n",
       "      <td>https://en.wikipedia.org/wiki/Abbeville,_Alabama</td>\n",
       "    </tr>\n",
       "    <tr>\n",
       "      <th>1</th>\n",
       "      <td>Alabama</td>\n",
       "      <td>Adamsville, Alabama</td>\n",
       "      <td>https://en.wikipedia.org/wiki/Adamsville,_Alabama</td>\n",
       "    </tr>\n",
       "    <tr>\n",
       "      <th>2</th>\n",
       "      <td>Alabama</td>\n",
       "      <td>Addison, Alabama</td>\n",
       "      <td>https://en.wikipedia.org/wiki/Addison,_Alabama</td>\n",
       "    </tr>\n",
       "    <tr>\n",
       "      <th>3</th>\n",
       "      <td>Alabama</td>\n",
       "      <td>Akron, Alabama</td>\n",
       "      <td>https://en.wikipedia.org/wiki/Akron,_Alabama</td>\n",
       "    </tr>\n",
       "    <tr>\n",
       "      <th>4</th>\n",
       "      <td>Alabama</td>\n",
       "      <td>Alabaster, Alabama</td>\n",
       "      <td>https://en.wikipedia.org/wiki/Alabaster,_Alabama</td>\n",
       "    </tr>\n",
       "  </tbody>\n",
       "</table>\n",
       "</div>"
      ],
      "text/plain": [
       "     state           page_title  \\\n",
       "0  Alabama   Abbeville, Alabama   \n",
       "1  Alabama  Adamsville, Alabama   \n",
       "2  Alabama     Addison, Alabama   \n",
       "3  Alabama       Akron, Alabama   \n",
       "4  Alabama   Alabaster, Alabama   \n",
       "\n",
       "                                                 url  \n",
       "0   https://en.wikipedia.org/wiki/Abbeville,_Alabama  \n",
       "1  https://en.wikipedia.org/wiki/Adamsville,_Alabama  \n",
       "2     https://en.wikipedia.org/wiki/Addison,_Alabama  \n",
       "3       https://en.wikipedia.org/wiki/Akron,_Alabama  \n",
       "4   https://en.wikipedia.org/wiki/Alabaster,_Alabama  "
      ]
     },
     "execution_count": 57,
     "metadata": {},
     "output_type": "execute_result"
    }
   ],
   "source": [
    "us_cities.head()"
   ]
  },
  {
   "cell_type": "code",
   "execution_count": 58,
   "id": "812483b6",
   "metadata": {},
   "outputs": [],
   "source": [
    "'''\n",
    "All of the API-related code below are adopted from wp_page_info_example.ipynb\n",
    "and wp_ores_liftwing_example.ipynb. Both notebooks are in the repository.\n",
    "See the notebooks for full license information.\n",
    "'''\n",
    "\n",
    "# The basic English Wikipedia API endpoint\n",
    "API_ENWIKIPEDIA_ENDPOINT = 'https://en.wikipedia.org/w/api.php'\n",
    "\n",
    "'''\n",
    "We'll assume that there needs to be some throttling for these requests - \n",
    "we should always be nice to a free data resource\n",
    "'''\n",
    "API_LATENCY_ASSUMED = 0.002 # Assuming roughly 2ms latency on the API and network\n",
    "API_THROTTLE_WAIT = (1.0/100.0)-API_LATENCY_ASSUMED\n",
    "\n",
    "'''\n",
    "When making automated requests we should include something that is unique\n",
    "to the person making the request. This should include an email - your UW email\n",
    "would be good to put in there.\n",
    "'''\n",
    "REQUEST_HEADERS = {\n",
    "    'User-Agent': '<jmic94@uw.edu>, University of Washington, MSDS DATA 512 - AUTUMN 2023',\n",
    "}\n",
    "\n",
    "# This is just a list of English Wikipedia article titles we are requesting info for\n",
    "ARTICLE_TITLES = list(us_cities.page_title)\n",
    "\n",
    "'''\n",
    "This is a string of additional page properties that can be returned.\n",
    "See the Info documentation for what can be included.\n",
    "If you don't want any this can simply be the empty string.\n",
    "'''\n",
    "# PAGEINFO_EXTENDED_PROPERTIES = 'talkid|url|watched|watchers'\n",
    "PAGEINFO_EXTENDED_PROPERTIES = ''\n",
    "\n",
    "# This template lists the basic parameters for making this request\n",
    "PAGEINFO_PARAMS_TEMPLATE = {\n",
    "    'action': 'query',\n",
    "    'format': 'json',\n",
    "    'titles': '', # to simplify this should be a single page title at a time\n",
    "    'prop': 'info',\n",
    "    'inprop': PAGEINFO_EXTENDED_PROPERTIES\n",
    "}"
   ]
  },
  {
   "cell_type": "code",
   "execution_count": 60,
   "id": "a5329311",
   "metadata": {},
   "outputs": [],
   "source": [
    "def request_pageinfo_per_article(article_title = None, \n",
    "                                 endpoint_url = API_ENWIKIPEDIA_ENDPOINT, \n",
    "                                 request_template = PAGEINFO_PARAMS_TEMPLATE,\n",
    "                                 headers = REQUEST_HEADERS):\n",
    "    \n",
    "    # article title can be as a parameter to the call or in the request_template\n",
    "    if article_title:\n",
    "        request_template['titles'] = article_title\n",
    "\n",
    "    if not request_template['titles']:\n",
    "        raise Exception('Must supply an article title to make a pageinfo request.')\n",
    "\n",
    "    # make the request\n",
    "    try:\n",
    "        # we'll wait first, to make sure we don't exceed the limit in the situation where an exception\n",
    "        # occurs during the request processing - throttling is always a good practice with a free\n",
    "        # data source like Wikipedia - or any other community sources\n",
    "        if API_THROTTLE_WAIT > 0.0:\n",
    "            time.sleep(API_THROTTLE_WAIT)\n",
    "        response = requests.get(endpoint_url, headers=headers, params=request_template)\n",
    "        json_response = response.json()\n",
    "    except Exception as e:\n",
    "        print(e)\n",
    "        json_response = None\n",
    "    return json_response\n"
   ]
  },
  {
   "cell_type": "code",
   "execution_count": 61,
   "id": "8fdac818",
   "metadata": {},
   "outputs": [
    {
     "name": "stdout",
     "output_type": "stream",
     "text": [
      "Getting page info data for: Akron, Alabama\n",
      "{\n",
      "    \"batchcomplete\": \"\",\n",
      "    \"query\": {\n",
      "        \"pages\": {\n",
      "            \"104726\": {\n",
      "                \"pageid\": 104726,\n",
      "                \"ns\": 0,\n",
      "                \"title\": \"Akron, Alabama\",\n",
      "                \"contentmodel\": \"wikitext\",\n",
      "                \"pagelanguage\": \"en\",\n",
      "                \"pagelanguagehtmlcode\": \"en\",\n",
      "                \"pagelanguagedir\": \"ltr\",\n",
      "                \"touched\": \"2023-10-10T22:35:37Z\",\n",
      "                \"lastrevid\": 1165909508,\n",
      "                \"length\": 11710,\n",
      "                \"talkid\": 281240,\n",
      "                \"fullurl\": \"https://en.wikipedia.org/wiki/Akron,_Alabama\",\n",
      "                \"editurl\": \"https://en.wikipedia.org/w/index.php?title=Akron,_Alabama&action=edit\",\n",
      "                \"canonicalurl\": \"https://en.wikipedia.org/wiki/Akron,_Alabama\"\n",
      "            }\n",
      "        }\n",
      "    }\n",
      "}\n"
     ]
    }
   ],
   "source": [
    "print(f\"Getting page info data for: {ARTICLE_TITLES[3]}\")\n",
    "info = request_pageinfo_per_article(ARTICLE_TITLES[3])\n",
    "print(json.dumps(info,indent=4))"
   ]
  },
  {
   "cell_type": "code",
   "execution_count": null,
   "id": "8fe0b105",
   "metadata": {},
   "outputs": [],
   "source": []
  }
 ],
 "metadata": {
  "kernelspec": {
   "display_name": "Python 3 (ipykernel)",
   "language": "python",
   "name": "python3"
  },
  "language_info": {
   "codemirror_mode": {
    "name": "ipython",
    "version": 3
   },
   "file_extension": ".py",
   "mimetype": "text/x-python",
   "name": "python",
   "nbconvert_exporter": "python",
   "pygments_lexer": "ipython3",
   "version": "3.9.13"
  }
 },
 "nbformat": 4,
 "nbformat_minor": 5
}
